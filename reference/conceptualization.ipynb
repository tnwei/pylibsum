{
 "cells": [
  {
   "cell_type": "markdown",
   "metadata": {},
   "source": [
    "Was thinking if it is possible to get a quick breakdown of what proportion of function calls in Python code actually belong to what library. Thought about using `ast` with it's ability to pick up functions."
   ]
  },
  {
   "cell_type": "markdown",
   "metadata": {},
   "source": [
    "Ref: https://greentreesnakes.readthedocs.io/en/latest/"
   ]
  },
  {
   "cell_type": "code",
   "execution_count": 15,
   "metadata": {},
   "outputs": [],
   "source": [
    "import ast"
   ]
  },
  {
   "cell_type": "code",
   "execution_count": 41,
   "metadata": {},
   "outputs": [],
   "source": [
    "# From: http://alexleone.blogspot.com/2010/01/python-ast-pretty-printer.html\n",
    "# Further modified to be usable in Python 3\n",
    "# ast.dump drives me nuts\n",
    "import astpp"
   ]
  },
  {
   "cell_type": "code",
   "execution_count": 73,
   "metadata": {},
   "outputs": [],
   "source": [
    "tree = ast.parse(\n",
    "\"\"\"\n",
    "import numpy as np\n",
    "from pandas import *\n",
    "from sklearn.metrics import mean_squared_error\n",
    "import scipy\n",
    "a = np.array([1, 2, 3])\n",
    "b = a.sum()\n",
    "c = b.mean()\n",
    "Timestamp.now()\n",
    "isinstance(10, list)\n",
    "scipy.linalg.svd(a)\n",
    "\"\"\")"
   ]
  },
  {
   "cell_type": "code",
   "execution_count": 74,
   "metadata": {},
   "outputs": [
    {
     "name": "stdout",
     "output_type": "stream",
     "text": [
      "Module(body=[\n",
      "    Import(names=[\n",
      "        alias(name='numpy', asname='np'),\n",
      "      ]),\n",
      "    ImportFrom(module='pandas', names=[\n",
      "        alias(name='*', asname=None),\n",
      "      ], level=0),\n",
      "    ImportFrom(module='sklearn.metrics', names=[\n",
      "        alias(name='mean_squared_error', asname=None),\n",
      "      ], level=0),\n",
      "    Import(names=[\n",
      "        alias(name='scipy', asname=None),\n",
      "      ]),\n",
      "    Assign(targets=[\n",
      "        Name(id='a', ctx=Store()),\n",
      "      ], value=Call(func=Attribute(value=Name(id='np', ctx=Load()), attr='array', ctx=Load()), args=[\n",
      "        List(elts=[\n",
      "            Num(n=1),\n",
      "            Num(n=2),\n",
      "            Num(n=3),\n",
      "          ], ctx=Load()),\n",
      "      ], keywords=[])),\n",
      "    Assign(targets=[\n",
      "        Name(id='b', ctx=Store()),\n",
      "      ], value=Call(func=Attribute(value=Name(id='a', ctx=Load()), attr='sum', ctx=Load()), args=[], keywords=[])),\n",
      "    Assign(targets=[\n",
      "        Name(id='c', ctx=Store()),\n",
      "      ], value=Call(func=Attribute(value=Name(id='b', ctx=Load()), attr='mean', ctx=Load()), args=[], keywords=[])),\n",
      "    Expr(value=Call(func=Attribute(value=Name(id='Timestamp', ctx=Load()), attr='now', ctx=Load()), args=[], keywords=[])),\n",
      "    Expr(value=Call(func=Name(id='isinstance', ctx=Load()), args=[\n",
      "        Num(n=10),\n",
      "        Name(id='list', ctx=Load()),\n",
      "      ], keywords=[])),\n",
      "    Expr(value=Call(func=Attribute(value=Attribute(value=Name(id='scipy', ctx=Load()), attr='linalg', ctx=Load()), attr='svd', ctx=Load()), args=[\n",
      "        Name(id='a', ctx=Load()),\n",
      "      ], keywords=[])),\n",
      "  ])\n"
     ]
    }
   ],
   "source": [
    "print(astpp.dump(tree))"
   ]
  },
  {
   "cell_type": "code",
   "execution_count": 18,
   "metadata": {},
   "outputs": [
    {
     "data": {
      "text/plain": [
       "[<_ast.Import at 0x7f15943bf150>,\n",
       " <_ast.Import at 0x7f15943bf1d0>,\n",
       " <_ast.Assign at 0x7f15943bf250>,\n",
       " <_ast.Assign at 0x7f15943bf490>,\n",
       " <_ast.Assign at 0x7f15943bf5d0>,\n",
       " <_ast.Expr at 0x7f15943b8390>]"
      ]
     },
     "execution_count": 18,
     "metadata": {},
     "output_type": "execute_result"
    }
   ],
   "source": [
    "tree.body"
   ]
  },
  {
   "cell_type": "code",
   "execution_count": 19,
   "metadata": {},
   "outputs": [
    {
     "data": {
      "text/plain": [
       "\"Assign(targets=[Name(id='a', ctx=Store())], value=Call(func=Attribute(value=Name(id='np', ctx=Load()), attr='array', ctx=Load()), args=[List(elts=[Num(n=1), Num(n=2), Num(n=3)], ctx=Load())], keywords=[]))\""
      ]
     },
     "execution_count": 19,
     "metadata": {},
     "output_type": "execute_result"
    }
   ],
   "source": [
    "ast.dump(tree.body[2])"
   ]
  },
  {
   "cell_type": "markdown",
   "metadata": {},
   "source": [
    "Was thinking if can just index all the Calls. But why is the formatting stored in string like this though? Can be a bit sticky in terms of extracting the Calls here."
   ]
  },
  {
   "cell_type": "code",
   "execution_count": 20,
   "metadata": {},
   "outputs": [
    {
     "data": {
      "text/plain": [
       "<_ast.Call at 0x7f15943bf2d0>"
      ]
     },
     "execution_count": 20,
     "metadata": {},
     "output_type": "execute_result"
    }
   ],
   "source": [
    "tree.body[2].value"
   ]
  },
  {
   "cell_type": "markdown",
   "metadata": {},
   "source": [
    "Nevermind, can be extracted like this. Reminded of this one time I was grokking an XML tree for something, also was able to access objects down the tree through their properties. So, `ast.dump` literally just prints the object and its child nodes. "
   ]
  },
  {
   "cell_type": "code",
   "execution_count": 27,
   "metadata": {},
   "outputs": [
    {
     "data": {
      "text/plain": [
       "\"Expr(value=Call(func=Attribute(value=Attribute(value=Name(id='pd', ctx=Load()), attr='Timestamp', ctx=Load()), attr='now', ctx=Load()), args=[], keywords=[]))\""
      ]
     },
     "execution_count": 27,
     "metadata": {},
     "output_type": "execute_result"
    }
   ],
   "source": [
    "ast.dump(tree.body[5])"
   ]
  },
  {
   "cell_type": "code",
   "execution_count": 34,
   "metadata": {},
   "outputs": [
    {
     "data": {
      "text/plain": [
       "\"Call(func=Attribute(value=Attribute(value=Name(id='pd', ctx=Load()), attr='Timestamp', ctx=Load()), attr='now', ctx=Load()), args=[], keywords=[])\""
      ]
     },
     "execution_count": 34,
     "metadata": {},
     "output_type": "execute_result"
    }
   ],
   "source": [
    "ast.dump(tree.body[5].value)"
   ]
  },
  {
   "cell_type": "code",
   "execution_count": 35,
   "metadata": {},
   "outputs": [
    {
     "data": {
      "text/plain": [
       "\"Attribute(value=Attribute(value=Name(id='pd', ctx=Load()), attr='Timestamp', ctx=Load()), attr='now', ctx=Load())\""
      ]
     },
     "execution_count": 35,
     "metadata": {},
     "output_type": "execute_result"
    }
   ],
   "source": [
    "ast.dump(tree.body[5].value.func)"
   ]
  },
  {
   "cell_type": "code",
   "execution_count": 29,
   "metadata": {},
   "outputs": [
    {
     "data": {
      "text/plain": [
       "True"
      ]
     },
     "execution_count": 29,
     "metadata": {},
     "output_type": "execute_result"
    }
   ],
   "source": [
    "isinstance(tree.body[5].value, ast.Call)"
   ]
  },
  {
   "cell_type": "markdown",
   "metadata": {},
   "source": [
    "I can probably walk the entire tree and mark nodes that are `ast.Call` objects."
   ]
  },
  {
   "cell_type": "markdown",
   "metadata": {},
   "source": [
    "From https://greentreesnakes.readthedocs.io/en/latest/manipulating.html#working-on-the-tree, I can subclass `ast.NodeVisitor` and override the methods that correspond to the node types. The following code snippet is from the reference:\n",
    "``` python\n",
    "class FuncLister(ast.NodeVisitor):\n",
    "    def visit_FunctionDef(self, node):\n",
    "        print(node.name)\n",
    "        self.generic_visit(node)\n",
    "\n",
    "FuncLister().visit(tree)\n",
    "```\n",
    "\n",
    "Inspected https://greentreesnakes.readthedocs.io/en/latest/nodes.html#Call and wrote the following."
   ]
  },
  {
   "cell_type": "code",
   "execution_count": 38,
   "metadata": {},
   "outputs": [
    {
     "name": "stdout",
     "output_type": "stream",
     "text": [
      "Attribute(value=Name(id='np', ctx=Load()), attr='array', ctx=Load())\n",
      "Attribute(value=Name(id='a', ctx=Load()), attr='sum', ctx=Load())\n",
      "Attribute(value=Name(id='b', ctx=Load()), attr='mean', ctx=Load())\n",
      "Attribute(value=Attribute(value=Name(id='pd', ctx=Load()), attr='Timestamp', ctx=Load()), attr='now', ctx=Load())\n"
     ]
    }
   ],
   "source": [
    "class FuncLister(ast.NodeVisitor):\n",
    "    def visit_Call(self, node):\n",
    "        print(ast.dump(node.func))\n",
    "        # Call self.generic_visit(node) to include child nodes\n",
    "        self.generic_visit(node)\n",
    "\n",
    "FuncLister().visit(tree)"
   ]
  },
  {
   "cell_type": "markdown",
   "metadata": {},
   "source": [
    "Hmm `Attribute` objects. From reading the docs, they describe the literal attribute of objects.\n",
    "+ `value`: node, parent of the attribute. Typically a `Name`.\n",
    "+ `attr`: string that serves as the name that houses the attribute\n",
    "+ `ctx`: Load, Store or Del operation\n",
    "\n",
    "`Name` objects have `id` which holds the actual name as a string, and `ctx`."
   ]
  },
  {
   "cell_type": "markdown",
   "metadata": {},
   "source": [
    "So tracking down each function call is possible. But determining if they are part of a library or not can be a bit tricky. `ast` does not actually run code, so it is not possible to determine what is in a variable! "
   ]
  },
  {
   "cell_type": "markdown",
   "metadata": {},
   "source": [
    "What I've gathered thus far:\n",
    "+ It is possible to pick out all function calls.\n",
    "+ The whole name of the function can be traced. Something like `pd.np.nan()` can be traced back to `pd`.\n",
    "+ Imports are their own explicit object in AST, thus it is simple to determine the origin of functions that can be traced back to imported modules. \n",
    "+ Function definitions are their own explicit objects in AST, thus it is also possible to trace function calls that are defined in the script itself.\n",
    "+ If a function cannot be traced just from reading the code itself, it cannot be traced in AST. Example, a standard library function pretty much has its own call as the top level node. Functions in the document that come from an asterisk import cannot have their lineage traced. \n",
    "+ Object methods need some effort to trace to the host library as well, and even so it can't be guaranteed. In the examples above, we could see functions assigned to `b` and `c` being outcomes of `a` and `b`. The assignment of `a` can be traced to a `np.array` call, but it is not guaranteed that `a` is an object that is defined under `np`! Will just have to take this as an assumption, and have functions assigned to `b` and `c` to count towarsd `np`. The idea being that we are involving objects from `numpy`, thus assigning it. "
   ]
  },
  {
   "cell_type": "markdown",
   "metadata": {},
   "source": [
    "Starting to see something take shape here. Workflow is basically:\n",
    "+ Identify all imports and function definitions\n",
    "+ Identify all function calls\n",
    "+ For each function call\n",
    "    + Assign them to each library or function definition or object (is object method). If not possible, then the function is either a std lib function, or is not mappable, and is mapped to an unknown class.\n",
    "+ Objects with function calls mapped to them are mapped to their source. All functions mapped to them will be re-classified to the source.\n",
    "+ Tabulate everything and print results"
   ]
  },
  {
   "cell_type": "code",
   "execution_count": 79,
   "metadata": {},
   "outputs": [
    {
     "name": "stdout",
     "output_type": "stream",
     "text": [
      "{'np': 'numpy', '*': 'unknown', 'scipy': 'scipy'}\n"
     ]
    }
   ],
   "source": [
    "# The idea is to have a dict that can be queried to find the final library to assign to\n",
    "class ImportTracker(ast.NodeVisitor):\n",
    "    \n",
    "    def __init__(self):\n",
    "        super().__init__()\n",
    "        self.libs = {}\n",
    "    \n",
    "    def visit_Import(self, node):\n",
    "        \"\"\"\n",
    "        node.names are basically what is imported\n",
    "        node.module is where they are from\n",
    "        \n",
    "        The idea is to have self.libs be a lookup, so that\n",
    "        the modules where functions can be imported from can\n",
    "        be traced.\n",
    "        \"\"\"\n",
    "        for i in node.names:\n",
    "            assert isinstance(i, ast.alias)\n",
    "            name = i.name\n",
    "            asname = i.asname\n",
    "                    \n",
    "            if asname is None:\n",
    "                self.libs[name] = name\n",
    "            else:\n",
    "                self.libs[asname] = name\n",
    "                        \n",
    "        # Call self.generic_visit(node) to include child nodes\n",
    "        self.generic_visit(node)\n",
    "        \n",
    "    def visit_ImportFrom(self, node):\n",
    "        for i in node.names:\n",
    "            assert isinstance(i, ast.alias)\n",
    "            name = i.name\n",
    "            asname = i.asname\n",
    "                    \n",
    "            if asname is None:\n",
    "                if name != \"*\":\n",
    "                    pass\n",
    "                    # This omits the library from the list! \n",
    "                    # self.libs[name] = node.module\n",
    "                else:\n",
    "                    self.libs[name] = \"unknown\"\n",
    "            else:\n",
    "                self.libs[asname] = {name:node.module}\n",
    "                        \n",
    "        # Call self.generic_visit(node) to include child nodes\n",
    "        self.generic_visit(node)\n",
    "\n",
    "obj = ImportTracker()\n",
    "obj.visit(tree)\n",
    "print(obj.libs)"
   ]
  },
  {
   "cell_type": "code",
   "execution_count": 72,
   "metadata": {},
   "outputs": [
    {
     "name": "stdout",
     "output_type": "stream",
     "text": [
      "[]\n"
     ]
    }
   ],
   "source": [
    "# Identify all function definitions\n",
    "class FunctionDefTracker(ast.NodeVisitor):\n",
    "    \n",
    "    def __init__(self):\n",
    "        super().__init__()\n",
    "        self.functiondefs = []\n",
    "    \n",
    "    def visit_FunctionDef(self, node):\n",
    "        \"\"\"\n",
    "        node.name is the function name. Just have to track that.\n",
    "        \"\"\"\n",
    "        self.functiondefs.append(node.name)\n",
    "\n",
    "        # Call self.generic_visit(node) to include child nodes\n",
    "        self.generic_visit(node)\n",
    "\n",
    "obj = FunctionDefTracker()\n",
    "obj.visit(tree)\n",
    "print(obj.functiondefs)"
   ]
  },
  {
   "cell_type": "code",
   "execution_count": 83,
   "metadata": {},
   "outputs": [
    {
     "data": {
      "text/plain": [
       "['np', 'a', 'b', 'Timestamp', 'isinstance', 'scipy']"
      ]
     },
     "execution_count": 83,
     "metadata": {},
     "output_type": "execute_result"
    }
   ],
   "source": [
    "class CallTracker(ast.NodeVisitor):\n",
    "    \n",
    "    def __init__(self):\n",
    "        super().__init__()\n",
    "        self.calls = []\n",
    "        \n",
    "    def visit_Call(self, node):\n",
    "        # Take the node.func object, which is either ast.Name or ast.Attribute\n",
    "        if isinstance(node.func, ast.Name):\n",
    "            # This is if the function call is a single line\n",
    "            self.calls.append(node.func.id)\n",
    "        elif isinstance(node.func, ast.Attribute):\n",
    "            # This is if the function call has multiple submodules\n",
    "            # Find the top-level name and store it! \n",
    "            # TODO\n",
    "            toplvlname = self.find_top_lvl_name(node.func)\n",
    "            self.calls.append(toplvlname)\n",
    "        else:\n",
    "            pass\n",
    "        \n",
    "        # Call self.generic_visit(node) to include child nodes\n",
    "        self.generic_visit(node)\n",
    "        \n",
    "    def find_top_lvl_name(self, func):\n",
    "        # Wade through the first ast.Attribute of each layer until an ast.Name is found\n",
    "        current_layer = func\n",
    "        for _ in range(10): # no such thing as 10 nested attributes! \n",
    "            if isinstance(current_layer, ast.Name):\n",
    "                return current_layer.id\n",
    "            elif isinstance(current_layer, ast.Attribute):\n",
    "                current_layer = current_layer.value\n",
    "            else:\n",
    "                raise Error\n",
    "        \n",
    "obj = CallTracker()\n",
    "obj.visit(tree)\n",
    "obj.calls"
   ]
  },
  {
   "cell_type": "code",
   "execution_count": 85,
   "metadata": {},
   "outputs": [
    {
     "data": {
      "text/plain": [
       "{'a': 'np', 'b': 'a', 'c': 'b'}"
      ]
     },
     "execution_count": 85,
     "metadata": {},
     "output_type": "execute_result"
    }
   ],
   "source": [
    "class AssignTracker(ast.NodeVisitor):\n",
    "    \n",
    "    def __init__(self):\n",
    "        super().__init__()\n",
    "        self.assigns = {}\n",
    "        \n",
    "    def visit_Assign(self, node):\n",
    "        # In an ast.Assign, we have `targets` as a list of node, and `value` as a single node\n",
    "        # Most likely that `targets` contains ast.Names, and `value` contains Calls.\n",
    "        assert isinstance(node.value, ast.Call)\n",
    "        \n",
    "        for i in node.targets:\n",
    "            assert isinstance(i, ast.Name)\n",
    "            name = i.id    \n",
    "            self.assigns[name] = self.find_top_lvl_name(node.value.func)\n",
    "        \n",
    "        # Call self.generic_visit(node) to include child nodes\n",
    "        self.generic_visit(node)\n",
    "\n",
    "    def find_top_lvl_name(self, func):\n",
    "        # Wade through the first ast.Attribute of each layer until an ast.Name is found\n",
    "        current_layer = func\n",
    "        for _ in range(10): # no such thing as 10 nested attributes! \n",
    "            if isinstance(current_layer, ast.Name):\n",
    "                return current_layer.id\n",
    "            elif isinstance(current_layer, ast.Attribute):\n",
    "                current_layer = current_layer.value\n",
    "            else:\n",
    "                raise Error    \n",
    "    \n",
    "        \n",
    "obj = AssignTracker()\n",
    "obj.visit(tree)\n",
    "obj.assigns"
   ]
  },
  {
   "cell_type": "markdown",
   "metadata": {},
   "source": [
    "I think these are most of the pieces! Just need to merge them."
   ]
  },
  {
   "cell_type": "code",
   "execution_count": 91,
   "metadata": {},
   "outputs": [],
   "source": [
    "class LibSum(ImportTracker, FunctionDefTracker, CallTracker, AssignTracker, ast.NodeVisitor):\n",
    "    pass"
   ]
  },
  {
   "cell_type": "code",
   "execution_count": 96,
   "metadata": {},
   "outputs": [],
   "source": [
    "obj = LibSum()\n",
    "obj.visit(tree)"
   ]
  },
  {
   "cell_type": "code",
   "execution_count": 97,
   "metadata": {},
   "outputs": [
    {
     "data": {
      "text/plain": [
       "{'a': 'np', 'b': 'a', 'c': 'b'}"
      ]
     },
     "execution_count": 97,
     "metadata": {},
     "output_type": "execute_result"
    }
   ],
   "source": [
    "obj.assigns"
   ]
  },
  {
   "cell_type": "code",
   "execution_count": 98,
   "metadata": {},
   "outputs": [
    {
     "data": {
      "text/plain": [
       "['np', 'a', 'b', 'Timestamp', 'isinstance', 'scipy']"
      ]
     },
     "execution_count": 98,
     "metadata": {},
     "output_type": "execute_result"
    }
   ],
   "source": [
    "obj.calls"
   ]
  },
  {
   "cell_type": "code",
   "execution_count": 100,
   "metadata": {},
   "outputs": [
    {
     "data": {
      "text/plain": [
       "[]"
      ]
     },
     "execution_count": 100,
     "metadata": {},
     "output_type": "execute_result"
    }
   ],
   "source": [
    "obj.functiondefs"
   ]
  },
  {
   "cell_type": "code",
   "execution_count": 101,
   "metadata": {},
   "outputs": [
    {
     "data": {
      "text/plain": [
       "{'np': 'numpy', '*': 'unknown', 'scipy': 'scipy'}"
      ]
     },
     "execution_count": 101,
     "metadata": {},
     "output_type": "execute_result"
    }
   ],
   "source": [
    "obj.libs"
   ]
  },
  {
   "cell_type": "markdown",
   "metadata": {},
   "source": [
    "Merge these four items into {library: count} is all that is left!"
   ]
  }
 ],
 "metadata": {
  "kernelspec": {
   "display_name": "Python 3",
   "language": "python",
   "name": "python3"
  },
  "language_info": {
   "codemirror_mode": {
    "name": "ipython",
    "version": 3
   },
   "file_extension": ".py",
   "mimetype": "text/x-python",
   "name": "python",
   "nbconvert_exporter": "python",
   "pygments_lexer": "ipython3",
   "version": "3.7.8"
  },
  "widgets": {
   "application/vnd.jupyter.widget-state+json": {
    "state": {},
    "version_major": 2,
    "version_minor": 0
   }
  }
 },
 "nbformat": 4,
 "nbformat_minor": 4
}
